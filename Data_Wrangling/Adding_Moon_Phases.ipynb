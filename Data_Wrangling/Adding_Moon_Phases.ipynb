{
 "cells": [
  {
   "cell_type": "markdown",
   "metadata": {},
   "source": [
    "# Adding Moon Phases to the Master Dataset\n",
    "Because we first needed to have a clean set of dates and lat/longs, we will do this part last. Nice and quick."
   ]
  },
  {
   "cell_type": "code",
   "execution_count": null,
   "metadata": {},
   "outputs": [],
   "source": [
    "# Add pylunar to the dataset. \n",
    "import pandas as pd\n",
    "import pylunar\n",
    "import glob\n",
    "import datetime as dt\n",
    "import numpy as np"
   ]
  },
  {
   "cell_type": "code",
   "execution_count": null,
   "metadata": {},
   "outputs": [],
   "source": [
    "# pylunar takes two tuples of 3 int\n",
    "# first is latitude as degress, minutes, seconds\n",
    "# then is longitude with degrees, minutes, seconds\n",
    "\n",
    "# So we need to make a function that can convert decimal degrees to degrees, minutes, seconds.\n",
    "def to_dms(dd): \n",
    "    \"\"\"Converts decimal degrees to (degrees, minutes, seconds) for pylunar\"\"\"\n",
    "    deg = int(dd) # get the interger of the decimal degrees --> degrees\n",
    "    intermediate = ((dd-deg)*60) # subtract the dd from degrees and x 60...\n",
    "    mins = int(intermediate) # the interger of above --> minutes\n",
    "    secs = (intermediate - mins)*60 # subtract the intermediate from min and x 60... --> sec\n",
    "    mins = abs(mins) # get the abs value in case its negative\n",
    "    secs = abs(secs) # get the abs value in case it's negative\n",
    "    return (deg, mins, secs) # return results in a tuple"
   ]
  },
  {
   "cell_type": "code",
   "execution_count": null,
   "metadata": {},
   "outputs": [],
   "source": [
    "# All of southern California should see the same moon, so we can generate the lunar phase\n",
    "# for the same location, for the duration of the study period pretty quickly\n",
    "\n",
    "date_sequence = pd.date_range('2012-01-01', '2019-11-01') # generate the range of dates\n",
    "year = date_sequence.strftime('%Y') # and start splitting into year\n",
    "month = date_sequence.strftime('%m') # month\n",
    "day = date_sequence.strftime('%d') # and day... because pylunar requires a tuple of\n",
    "    # (year, month, day, hour, minute, second)\n",
    "    \n",
    "# For easier iteration, we can combine these values into a dataframe\n",
    "dates = pd.DataFrame([]) # make a blank dataframe\n",
    "dates['Year'] = pd.to_numeric(year) # and add the year\n",
    "dates['Month'] = pd.to_numeric(month) # the month\n",
    "dates['Day'] = pd.to_numeric(day) # and the day"
   ]
  },
  {
   "cell_type": "code",
   "execution_count": null,
   "metadata": {},
   "outputs": [],
   "source": [
    "# Now, to get a location in our SoCal grid to generate moon phase for, let's just grab our\n",
    "# first file and read in the first line\n",
    "temp = pd.read_csv('D:/Documents/SpringBoard/capstone-1/datasets/final_files/combined/filled/2012-without_moon.csv',\n",
    "                   nrows=1)"
   ]
  },
  {
   "cell_type": "code",
   "execution_count": null,
   "metadata": {},
   "outputs": [],
   "source": [
    "# And we can use our function to convert our lat/lngs that are in DD to DMS\n",
    "lat = to_dms(temp['Lat'][0]) # convert the latitude\n",
    "lng = to_dms(temp['Lng'][0]) # and convert the longitude"
   ]
  },
  {
   "cell_type": "code",
   "execution_count": null,
   "metadata": {},
   "outputs": [],
   "source": [
    "# Now, create a moon object (by default it uses the current datetime at that\n",
    "# gps location) BUT moon objects think in UTC. So it's a good thing that our\n",
    "# data are in UTC by default.\n",
    "moon = pylunar.MoonInfo(lat, lng)"
   ]
  },
  {
   "cell_type": "code",
   "execution_count": null,
   "metadata": {},
   "outputs": [],
   "source": [
    "# Since we want it to give us data for 7 years, we could do a quick loop\n",
    "phases = [] # start with an empty list\n",
    "\n",
    "for row in range(len(dates)): # for each date\n",
    "    moon.update((dates.loc[row,'Year'], dates.loc[row, 'Month'], dates.loc[row, 'Day'], 0, 0, 0))\n",
    "        # update the moon data that corresponds to that UTC date\n",
    "    phase = moon.phase_name() # next, we want to get the phase of the moon at that date\n",
    "    phases.append(phase) # and add it to the phases list"
   ]
  },
  {
   "cell_type": "code",
   "execution_count": null,
   "metadata": {},
   "outputs": [],
   "source": [
    "# Time to clean up\n",
    "phases = pd.DataFrame(phases, columns=['MoonPhase']) # lets make this into a dataframe\n",
    "    # and label the columns appropriately\n",
    "phases['Date'] = date_sequence.strftime('%Y-%m-%d') # and let's add the date in there\n",
    "    # so that we can easily merge with the full dataset."
   ]
  },
  {
   "cell_type": "code",
   "execution_count": null,
   "metadata": {},
   "outputs": [],
   "source": [
    "# Finally, it's time to add these data to our final datasets\n",
    "file_names = glob.glob('D:/Documents/SpringBoard/capstone-1/datasets/final_files/combined/filled/*')\n",
    "    # so, let's get a list of all the datasets we need to add moon phase to\n",
    "\n",
    "# And let's run through the files\n",
    "for file in file_names: # for each file\n",
    "    dat = pd.read_csv(file) # read in the file\n",
    "    dat = dat.merge(phases, how='left') # merge it with the phase data but only keep the \n",
    "        # moon phase for dates within dat\n",
    "    filename = file.split('\\\\')[1] # and start to get the file name so that we can save\n",
    "        # each file as a different name - start by getting the name of the file that we\n",
    "        # read in...\n",
    "    filename = filename.split('-')[0] # and take off the '-without_moon.csv' so we just \n",
    "        # have the year\n",
    "    dat.to_csv('D:/Documents/SpringBoard/capstone-1/datasets/final_files/combined/filled/'+filename+'_all.csv', index=False)\n",
    "        # and save the file with that name, and without an index row"
   ]
  }
 ],
 "metadata": {
  "kernelspec": {
   "display_name": "Python 3",
   "language": "python",
   "name": "python3"
  },
  "language_info": {
   "codemirror_mode": {
    "name": "ipython",
    "version": 3
   },
   "file_extension": ".py",
   "mimetype": "text/x-python",
   "name": "python",
   "nbconvert_exporter": "python",
   "pygments_lexer": "ipython3",
   "version": "3.7.4"
  }
 },
 "nbformat": 4,
 "nbformat_minor": 2
}
