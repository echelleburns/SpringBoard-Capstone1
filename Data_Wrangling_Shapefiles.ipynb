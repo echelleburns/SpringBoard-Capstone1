{
 "cells": [
  {
   "cell_type": "markdown",
   "metadata": {},
   "source": [
    "# Data Wrangling with Shapefile Data\n",
    "\n",
    "<i>The data used in this example: </i>\n",
    "\n",
    "1) A shapefile created by myself using a fishnet in ArcGIS\n",
    "\n",
    "2) A Sea Surface Temperature csv fata file gathered from: https://coastwatch.pfeg.noaa.gov/erddap/griddap/jplG1SST.html for 2012 with a bounding box of 32.94N, 35.40N, -120.88W, -117.20W"
   ]
  },
  {
   "cell_type": "code",
   "execution_count": 16,
   "metadata": {},
   "outputs": [],
   "source": [
    "# Import packages\n",
    "import pandas as pd # to read in csv file\n",
    "import datetime as dt # to understand datetime formats\n",
    "import shapefile # to read in shapefiles\n",
    "from shapely.geometry import Point # to iterate over features\n",
    "from shapely.geometry import shape # to iterate over features"
   ]
  },
  {
   "cell_type": "code",
   "execution_count": 22,
   "metadata": {},
   "outputs": [],
   "source": [
    "# Import data (update to where you stored local files)\n",
    "grid = shapefile.Reader('D:/Documents/SpringBoard/capstone-1/datasets/gridded-shapefile') # read in the gridded shapefile\n",
    "sst = pd.read_csv('D:/Documents/SpringBoard/capstone-1/datasets/SST_2012.csv', skiprows=1) # read in shapefile and skip\n",
    "    # the first row (because it's just an extra header)\n",
    "    # colnames are: UTC, degrees_north, degrees_east, degree_C\n",
    "    # where degrees_north = latitude and degrees_east = longitude"
   ]
  },
  {
   "cell_type": "code",
   "execution_count": 23,
   "metadata": {},
   "outputs": [],
   "source": [
    "# Some housekeeping... for SST\n",
    "sst['UTC'] = pd.to_datetime(sst['UTC'], infer_datetime_format=True, errors='coerce') \n",
    "    # change the UTC column to a datetime and coerce non-date formats into NaNs\n",
    "sst['UTC'] = sst['UTC'].dt.tz_localize('UTC') # give the datetime a tz (utc)\n",
    "sst = sst[sst['UTC'] == sst['UTC'].min()] # and only keep the sst data for the first day \n",
    "    # we really just need to create a dataframe with lat/lon coordinates of SST data paired with the\n",
    "    # shapefile ID so that we can merge the shapefile ID into the other SST datasets \n",
    "sst = sst.dropna().reset_index(drop=True) # only keep the sst data that are not NAs\n",
    "sst['Zone'] = 'NA' # add a new column that will house the shapefile zone ID"
   ]
  },
  {
   "cell_type": "code",
   "execution_count": 25,
   "metadata": {},
   "outputs": [],
   "source": [
    "# For the purpose of this example, let's just take the first 100 rows of sst for this day. \n",
    "sst = sst.loc[0:99,:]"
   ]
  },
  {
   "cell_type": "code",
   "execution_count": null,
   "metadata": {},
   "outputs": [
    {
     "name": "stdout",
     "output_type": "stream",
     "text": [
      "<shapefile.Shape object at 0x000001DD449F9E88>\n"
     ]
    }
   ],
   "source": [
    "# Some housekeeping... for the grid\n",
    "all_shapes = grid.shapes() # get all the polygons\n",
    "all_records = grid.records() # get all the records\n",
    "\n",
    "# And just so we get an idea of what we're looking at\n",
    "print(grid.shapes()[0])\n",
    "print(grid.records()[0]) # I'm pretty sure this corresponds to [ID, shape , ]"
   ]
  },
  {
   "cell_type": "code",
   "execution_count": null,
   "metadata": {},
   "outputs": [],
   "source": [
    "# Run the loop\n",
    "for row in range(len(sst)): # for the rows in sst\n",
    "    points = (sst['degrees_east'][row], sst['degrees_north'][row]) # put the GPS points from that row into a tuple\n",
    "    for shape_id in range(1, len(all_shapes)): # for each of the squares in the shapefile\n",
    "        boundary = all_shapes[shape_id] # get a boundary polygon\n",
    "        if Point(points).within(shape(boundary)): # make a point and see if it's in the polygon\n",
    "            name = all_records[shape_id][0] # grab the field corresponding to the id of the feature\n",
    "            sst.iloc[row,4] = name # set the feature id as the 5th column (Zone)\n",
    "            break # and if/when this happens for the GPS tuple, stop the inner for loop and continue with the outer loop"
   ]
  },
  {
   "cell_type": "code",
   "execution_count": null,
   "metadata": {},
   "outputs": [],
   "source": [
    "print(sst) # print out the output"
   ]
  }
 ],
 "metadata": {
  "kernelspec": {
   "display_name": "Python 3",
   "language": "python",
   "name": "python3"
  },
  "language_info": {
   "codemirror_mode": {
    "name": "ipython",
    "version": 3
   },
   "file_extension": ".py",
   "mimetype": "text/x-python",
   "name": "python",
   "nbconvert_exporter": "python",
   "pygments_lexer": "ipython3",
   "version": "3.7.4"
  }
 },
 "nbformat": 4,
 "nbformat_minor": 2
}
