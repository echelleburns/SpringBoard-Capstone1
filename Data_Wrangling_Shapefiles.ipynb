{
 "cells": [
  {
   "cell_type": "markdown",
   "metadata": {},
   "source": [
    "# Data Wrangling with Shapefile Data\n",
    "\n",
    "<i>The data used in this example: </i>\n",
    "\n",
    "1) A shapefile created by myself using a fishnet in ArcGIS\n",
    "\n",
    "2) A Sea Surface Temperature csv fata file gathered from: https://coastwatch.pfeg.noaa.gov/erddap/griddap/jplG1SST.html for 2012 with a bounding box of 32.94N, 35.40N, -120.88W, -117.20W"
   ]
  },
  {
   "cell_type": "code",
   "execution_count": 1,
   "metadata": {},
   "outputs": [],
   "source": [
    "# Import packages\n",
    "import pandas as pd # to read in csv file\n",
    "import datetime as dt # to understand datetime formats\n",
    "import shapefile # to read in shapefiles\n",
    "from shapely.geometry import Point # to iterate over features\n",
    "from shapely.geometry import shape # to iterate over features"
   ]
  },
  {
   "cell_type": "code",
   "execution_count": 2,
   "metadata": {},
   "outputs": [],
   "source": [
    "# Import data (update to where you stored local files)\n",
    "grid = shapefile.Reader('D:/Documents/SpringBoard/capstone-1/datasets/trunc/gridded-shapefile') \n",
    "    # read in the gridded shapefile\n",
    "sst = pd.read_csv('D:/Documents/SpringBoard/capstone-1/datasets/trunc/SST_2012.csv', skiprows=1) \n",
    "    # read in shapefile and skip the first row (because it's just an extra header)\n",
    "    # colnames are: UTC, degrees_north, degrees_east, degree_C\n",
    "    # where degrees_north = latitude and degrees_east = longitude"
   ]
  },
  {
   "cell_type": "code",
   "execution_count": 3,
   "metadata": {},
   "outputs": [],
   "source": [
    "# Some housekeeping... for SST\n",
    "sst['UTC'] = pd.to_datetime(sst['UTC'], infer_datetime_format=True, errors='coerce') \n",
    "    # change the UTC column to a datetime and coerce non-date formats into NaNs\n",
    "sst['UTC'] = sst['UTC'].dt.tz_localize('UTC') # give the datetime a tz (utc)\n",
    "sst = sst[sst['UTC'] == sst['UTC'].min()] # and only keep the sst data for the first day \n",
    "    # we really just need to create a dataframe with lat/lon coordinates of SST data paired with the\n",
    "    # shapefile ID so that we can merge the shapefile ID into the other SST datasets \n",
    "sst = sst.dropna().reset_index(drop=True) # only keep the sst data that are not NAs\n",
    "sst['Zone'] = 'NA' # add a new column that will house the shapefile zone ID"
   ]
  },
  {
   "cell_type": "code",
   "execution_count": 4,
   "metadata": {},
   "outputs": [],
   "source": [
    "# For the purpose of this example, let's just take the first 9 rows of sst for this day. \n",
    "sst = sst.loc[0:9,:]"
   ]
  },
  {
   "cell_type": "code",
   "execution_count": 5,
   "metadata": {},
   "outputs": [
    {
     "name": "stdout",
     "output_type": "stream",
     "text": [
      "<shapefile.Shape object at 0x00000155CDED80C8>\n",
      "Record #0: [788807, 0, 0.0400000000179, 0.00010000000009]\n"
     ]
    }
   ],
   "source": [
    "# Some housekeeping... for the grid\n",
    "all_shapes = grid.shapes() # get all the polygons\n",
    "all_records = grid.records() # get all the records\n",
    "\n",
    "# And just so we get an idea of what we're looking at\n",
    "print(grid.shapes()[0])\n",
    "print(grid.records()[0]) # I'm pretty sure this corresponds to [ID, shape , shape area, shape length]"
   ]
  },
  {
   "cell_type": "code",
   "execution_count": 6,
   "metadata": {},
   "outputs": [
    {
     "name": "stdout",
     "output_type": "stream",
     "text": [
      "Wall time: 27.7 s\n"
     ]
    }
   ],
   "source": [
    "%%time\n",
    "# Run the loop\n",
    "for row in range(len(sst)): # for the rows in sst\n",
    "    points = (sst['degrees_east'][row], sst['degrees_north'][row]) # put the GPS points from that row \n",
    "    # into a tuple\n",
    "    for shape_id in range(1, len(all_shapes)): # for each of the squares in the shapefile\n",
    "        boundary = all_shapes[shape_id] # get a boundary polygon\n",
    "        if Point(points).within(shape(boundary)): # make a point and see if it's in the polygon\n",
    "            name = all_records[shape_id][0] # grab the field corresponding to the id of the feature\n",
    "            sst.iloc[row,4] = name # set the feature id as the 5th column (Zone)\n",
    "            break # and if/when this happens for the GPS tuple, stop the \n",
    "            # inner for loop and continue with the outer loop"
   ]
  },
  {
   "cell_type": "code",
   "execution_count": 7,
   "metadata": {},
   "outputs": [
    {
     "name": "stdout",
     "output_type": "stream",
     "text": [
      "                        UTC  degrees_north  degrees_east  degree_C     Zone\n",
      "0 2012-01-01 09:00:00+00:00          32.94       -120.88    14.817  1566248\n",
      "1 2012-01-01 09:00:00+00:00          32.94       -120.87    14.782  1566247\n",
      "2 2012-01-01 09:00:00+00:00          32.94       -120.86    14.744  1566246\n",
      "3 2012-01-01 09:00:00+00:00          32.94       -120.85    14.704  1566245\n",
      "4 2012-01-01 09:00:00+00:00          32.94       -120.84    14.662  1566244\n",
      "5 2012-01-01 09:00:00+00:00          32.94       -120.83    14.618  1566243\n",
      "6 2012-01-01 09:00:00+00:00          32.94       -120.82    14.572  1566242\n",
      "7 2012-01-01 09:00:00+00:00          32.94       -120.81    14.525  1566241\n",
      "8 2012-01-01 09:00:00+00:00          32.94       -120.80    14.477  1566240\n",
      "9 2012-01-01 09:00:00+00:00          32.94       -120.79    14.427  1566239\n"
     ]
    }
   ],
   "source": [
    "print(sst) # print out the output"
   ]
  },
  {
   "cell_type": "markdown",
   "metadata": {},
   "source": [
    "Let's try a new method... this is actually incredibly faster."
   ]
  },
  {
   "cell_type": "code",
   "execution_count": 8,
   "metadata": {},
   "outputs": [],
   "source": [
    "import shapely\n",
    "import geopandas as gdp\n",
    "import pandas as pd\n",
    "from geopandas.tools import sjoin\n",
    "from shapely.geometry import Point\n",
    "from shapely import speedups\n",
    "speedups.enable()"
   ]
  },
  {
   "cell_type": "code",
   "execution_count": 9,
   "metadata": {},
   "outputs": [],
   "source": [
    "# Import data (update to where you stored local files)\n",
    "grid = gdp.read_file('D:/Documents/SpringBoard/capstone-1/datasets/trunc/gridded-shapefile.shp') \n",
    "    # read in the gridded shapefile\n",
    "sst = pd.read_csv('D:/Documents/SpringBoard/capstone-1/datasets/trunc/SST_2012.csv', skiprows=1) \n",
    "    # read in shapefile and skip the first row (because it's just an extra header)\n",
    "    # colnames are: UTC, degrees_north, degrees_east, degree_C\n",
    "    # where degrees_north = latitude and degrees_east = longitude"
   ]
  },
  {
   "cell_type": "code",
   "execution_count": 10,
   "metadata": {},
   "outputs": [],
   "source": [
    "# Some housekeeping... for SST\n",
    "sst['UTC'] = pd.to_datetime(sst['UTC'], infer_datetime_format=True, errors='coerce') \n",
    "    # change the UTC column to a datetime and coerce non-date formats into NaNs\n",
    "sst['UTC'] = sst['UTC'].dt.tz_localize('UTC') # give the datetime a tz (utc)\n",
    "sst = sst[sst['UTC'] == sst['UTC'].min()] # and only keep the sst data for the first day \n",
    "    # we really just need to create a dataframe with lat/lon coordinates of SST data paired with the\n",
    "    # shapefile ID so that we can merge the shapefile ID into the other SST datasets \n",
    "sst = sst.dropna().reset_index(drop=True) # only keep the sst data that are not NAs"
   ]
  },
  {
   "cell_type": "code",
   "execution_count": 11,
   "metadata": {},
   "outputs": [],
   "source": [
    "# Turn the SST data into a geometric dataset\n",
    "geometry = [Point(xy) for xy in zip(sst['degrees_east'], sst['degrees_north'])]\n",
    "\n",
    "# Coordinate reference system : WGS84\n",
    "crs = {'init': 'epsg:4326'}\n",
    "\n",
    "# Create a Geographic data frame \n",
    "sst_geom = gdp.GeoDataFrame(sst, crs=crs, geometry=geometry)\n",
    "\n",
    "# Make sure the grid is the same crs\n",
    "grid = gdp.GeoDataFrame(grid, crs=crs)\n",
    "grid = grid.loc[:,['OBJECTID', 'geometry']] # only keep the object ID values and the geometry values"
   ]
  },
  {
   "cell_type": "code",
   "execution_count": 12,
   "metadata": {},
   "outputs": [
    {
     "name": "stdout",
     "output_type": "stream",
     "text": [
      "Wall time: 12.5 s\n"
     ]
    }
   ],
   "source": [
    "%%time\n",
    "sst_polygons = sjoin(sst_geom, grid, how='left')"
   ]
  },
  {
   "cell_type": "code",
   "execution_count": 13,
   "metadata": {},
   "outputs": [
    {
     "name": "stdout",
     "output_type": "stream",
     "text": [
      "                        UTC  degrees_north  degrees_east  degree_C  \\\n",
      "0 2012-01-01 09:00:00+00:00          32.94       -120.88    14.817   \n",
      "1 2012-01-01 09:00:00+00:00          32.94       -120.87    14.782   \n",
      "2 2012-01-01 09:00:00+00:00          32.94       -120.86    14.744   \n",
      "3 2012-01-01 09:00:00+00:00          32.94       -120.85    14.704   \n",
      "4 2012-01-01 09:00:00+00:00          32.94       -120.84    14.662   \n",
      "\n",
      "                      geometry  index_right   OBJECTID  \n",
      "0  POINT (-120.88000 32.94000)      99622.0  1566248.0  \n",
      "1  POINT (-120.87000 32.94000)      99621.0  1566247.0  \n",
      "2  POINT (-120.86000 32.94000)      99620.0  1566246.0  \n",
      "3  POINT (-120.85000 32.94000)      99619.0  1566245.0  \n",
      "4  POINT (-120.84000 32.94000)      99618.0  1566244.0  \n"
     ]
    }
   ],
   "source": [
    "print(sst_polygons.head())"
   ]
  }
 ],
 "metadata": {
  "kernelspec": {
   "display_name": "Python 3",
   "language": "python",
   "name": "python3"
  },
  "language_info": {
   "codemirror_mode": {
    "name": "ipython",
    "version": 3
   },
   "file_extension": ".py",
   "mimetype": "text/x-python",
   "name": "python",
   "nbconvert_exporter": "python",
   "pygments_lexer": "ipython3",
   "version": "3.7.4"
  }
 },
 "nbformat": 4,
 "nbformat_minor": 2
}
