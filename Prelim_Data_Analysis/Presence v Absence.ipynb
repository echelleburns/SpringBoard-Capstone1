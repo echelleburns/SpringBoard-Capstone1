{
 "cells": [
  {
   "cell_type": "markdown",
   "metadata": {},
   "source": [
    "# Trying to figure out the relationship between shark presence (1) and shark absence (0) with continuous environmental parameters"
   ]
  },
  {
   "cell_type": "code",
   "execution_count": null,
   "metadata": {},
   "outputs": [],
   "source": [
    "# Import relevant packages\n",
    "import pandas as pd\n",
    "import matplotlib.pyplot as plt\n",
    "import seaborn as sns\n",
    "import numpy as np\n",
    "import statsmodels.api as sm\n",
    "import scipy\n",
    "import statsmodels.formula.api as smf "
   ]
  },
  {
   "cell_type": "code",
   "execution_count": null,
   "metadata": {},
   "outputs": [],
   "source": [
    "# Read in the dataset and do some quick data cleanup.\n",
    "dat = pd.read_csv('D:/Documents/SpringBoard/capstone-1/datasets/final_files/combined/'\n",
    "                  'filled/jackknifed_counts.csv', \n",
    "                 parse_dates=['Date']) \n",
    "\n",
    "dat['Receiver_D'] = dat['Receiver_D'].astype('category') # turn receiver D into a category\n",
    "    # for analyses and plotting\n",
    "dat['Year'] = dat['Year'].astype('category') # turn into a category\n",
    "dat['Transmitter'] = pd.to_numeric(dat['Transmitter'], errors='coerce') # and make\n",
    "    # sure that the 'Transmitter' (shark density) is numeric\n",
    "    \n",
    "dat['Receiver_D'] = dat['Receiver_D'].cat.remove_unused_categories()"
   ]
  },
  {
   "cell_type": "code",
   "execution_count": null,
   "metadata": {},
   "outputs": [],
   "source": [
    "dat['presence'] = dat['Transmitter'].copy() # make a copy of the transmitter data\n",
    "dat['presence'].values[dat['presence'].values > 1] = 1 # and convert transmitter vals > 1\n",
    "    # to 1"
   ]
  },
  {
   "cell_type": "code",
   "execution_count": null,
   "metadata": {},
   "outputs": [],
   "source": [
    "dat.plot('TempC','presence',kind='scatter', color='darkgreen') # plot presence vs absence\n",
    "plt.ylabel('Shark Presence')\n",
    "plt.xlabel('Sea Surface Temperature')\n",
    "plt.show()"
   ]
  },
  {
   "cell_type": "code",
   "execution_count": null,
   "metadata": {},
   "outputs": [],
   "source": [
    "# I don't really see an easy-to-interpret trend here... \n",
    "# What if I try counting the sum of values in each 0.1 SST degree increment? \n",
    "# So higher values will indicate more cells having a shark in it at that temperature? \n",
    "\n",
    "rounded = pd.DataFrame(dat, copy=True) # copy\n",
    "\n",
    "rounded['roundedTempC'] = round(rounded['TempC'], ndigits=1)\n",
    "    # let's round temperature to the nearest 0.1 and add it as a new column\n",
    "\n",
    "sst_m = rounded[['presence', 'roundedTempC']].groupby('roundedTempC').agg('sum').fillna(0).reset_index()\n",
    "    # let's create a new dataframe that takes the relevant parameters, groups by the\n",
    "    # rounded temperature, and shoots out the sum of shark presence for that temperature\n",
    "    # also, lets fill NAs and reset the index\n",
    "\n",
    "sst_m.plot('roundedTempC','presence',kind='scatter', color='darkgreen') # show \n",
    "plt.xlabel('Rounded Sea Surface Temperature')\n",
    "plt.ylabel('Shark Presence')\n",
    "plt.show()"
   ]
  },
  {
   "cell_type": "code",
   "execution_count": null,
   "metadata": {},
   "outputs": [],
   "source": [
    "dat.plot('Sal', 'presence', kind='scatter', color='darkorange')\n",
    "plt.xlabel('Sea Surface Salinity')\n",
    "plt.ylabel('Shark Presence')\n",
    "plt.show()"
   ]
  },
  {
   "cell_type": "code",
   "execution_count": null,
   "metadata": {},
   "outputs": [],
   "source": [
    "# Let's round the salinity to 0.1 digits too and see if we can see\n",
    "# more zones with sharks at specific salinities?\n",
    "rounded['roundedSal'] = round(rounded['Sal'], ndigits=1)\n",
    "    # round to the nearest 0.1 and add it as a new column\n",
    "\n",
    "sal_m = rounded[['presence', 'roundedSal']].groupby('roundedSal').agg('sum').fillna(0).reset_index()\n",
    "    # get sum for each rounded temperature\n",
    "    \n",
    "# Plot it\n",
    "sal_m.plot('roundedSal','presence',kind='scatter', color='darkorange')\n",
    "plt.xlabel('Rounded Sea Surface Salinity')\n",
    "plt.ylabel('Shark Presence')\n",
    "plt.show()"
   ]
  },
  {
   "cell_type": "code",
   "execution_count": null,
   "metadata": {},
   "outputs": [],
   "source": [
    "dat.plot('ChlA', 'presence', kind='scatter', color='purple')\n",
    "plt.xlabel('Chlorophyll-A')\n",
    "plt.ylabel('Shark Presence')\n",
    "plt.show()"
   ]
  },
  {
   "cell_type": "code",
   "execution_count": null,
   "metadata": {},
   "outputs": [],
   "source": [
    "# There actually might be a binomial relationship here. Maybe worth exploring more?\n",
    "\n",
    "rounded['roundedChlA'] = round(rounded['ChlA'], ndigits=1)\n",
    "    # round to the nearest 0.1 and add it as a new column\n",
    "\n",
    "chla_m = rounded[['presence', 'roundedChlA']].groupby('roundedChlA').agg('sum').fillna(0).reset_index()\n",
    "    # get the sum of the presence values for each chla\n",
    "    \n",
    "# plot it\n",
    "chla_m.plot('roundedChlA','presence',kind='scatter', color='purple')\n",
    "plt.xlabel('Rounded Chlorophyll-A')\n",
    "plt.ylabel('Shark Presence')\n",
    "plt.show()"
   ]
  }
 ],
 "metadata": {
  "kernelspec": {
   "display_name": "Python 3",
   "language": "python",
   "name": "python3"
  },
  "language_info": {
   "codemirror_mode": {
    "name": "ipython",
    "version": 3
   },
   "file_extension": ".py",
   "mimetype": "text/x-python",
   "name": "python",
   "nbconvert_exporter": "python",
   "pygments_lexer": "ipython3",
   "version": "3.7.4"
  }
 },
 "nbformat": 4,
 "nbformat_minor": 2
}
